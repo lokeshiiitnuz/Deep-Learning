{
  "nbformat": 4,
  "nbformat_minor": 0,
  "metadata": {
    "colab": {
      "name": "CliNER-2.ipynb",
      "provenance": [],
      "authorship_tag": "ABX9TyMnKA8K4JnJUU2JThxcu1TG",
      "include_colab_link": true
    },
    "kernelspec": {
      "name": "python3",
      "display_name": "Python 3"
    },
    "language_info": {
      "name": "python"
    }
  },
  "cells": [
    {
      "cell_type": "markdown",
      "metadata": {
        "id": "view-in-github",
        "colab_type": "text"
      },
      "source": [
        "<a href=\"https://colab.research.google.com/github/lokeshiiitnuz/Deep-Learning/blob/main/CliNER_2.ipynb\" target=\"_parent\"><img src=\"https://colab.research.google.com/assets/colab-badge.svg\" alt=\"Open In Colab\"/></a>"
      ]
    },
    {
      "cell_type": "code",
      "metadata": {
        "colab": {
          "base_uri": "https://localhost:8080/"
        },
        "id": "ul1RC5e2aqbU",
        "outputId": "27464601-4e64-43aa-e4cf-2d269910ff2b"
      },
      "source": [
        "from google.colab import drive\n",
        "drive.mount('/content/Ldrive')"
      ],
      "execution_count": 2,
      "outputs": [
        {
          "output_type": "stream",
          "text": [
            "Mounted at /content/Ldrive\n"
          ],
          "name": "stdout"
        }
      ]
    },
    {
      "cell_type": "code",
      "metadata": {
        "colab": {
          "base_uri": "https://localhost:8080/"
        },
        "id": "_33iVMX3bOHc",
        "outputId": "5f0a17b0-91d6-465c-d67b-0813d9171235"
      },
      "source": [
        "pip install -r '/content/Ldrive/MyDrive/Colab-Drive/CliNER/requirements.txt'"
      ],
      "execution_count": 3,
      "outputs": [
        {
          "output_type": "stream",
          "text": [
            "Requirement already satisfied: nltk in /usr/local/lib/python3.7/dist-packages (from -r /content/Ldrive/MyDrive/Colab-Drive/CliNER/requirements.txt (line 1)) (3.2.5)\n",
            "Collecting python-crfsuite\n",
            "\u001b[?25l  Downloading https://files.pythonhosted.org/packages/79/47/58f16c46506139f17de4630dbcfb877ce41a6355a1bbf3c443edb9708429/python_crfsuite-0.9.7-cp37-cp37m-manylinux1_x86_64.whl (743kB)\n",
            "\u001b[K     |████████████████████████████████| 747kB 5.4MB/s \n",
            "\u001b[?25hRequirement already satisfied: numpy in /usr/local/lib/python3.7/dist-packages (from -r /content/Ldrive/MyDrive/Colab-Drive/CliNER/requirements.txt (line 3)) (1.19.5)\n",
            "Requirement already satisfied: scipy in /usr/local/lib/python3.7/dist-packages (from -r /content/Ldrive/MyDrive/Colab-Drive/CliNER/requirements.txt (line 4)) (1.4.1)\n",
            "Requirement already satisfied: scikit-learn in /usr/local/lib/python3.7/dist-packages (from -r /content/Ldrive/MyDrive/Colab-Drive/CliNER/requirements.txt (line 5)) (0.22.2.post1)\n",
            "Collecting marisa-trie\n",
            "\u001b[?25l  Downloading https://files.pythonhosted.org/packages/20/95/d23071d0992dabcb61c948fb118a90683193befc88c23e745b050a29e7db/marisa-trie-0.7.5.tar.gz (270kB)\n",
            "\u001b[K     |████████████████████████████████| 276kB 11.5MB/s \n",
            "\u001b[?25hCollecting repoze.lru\n",
            "  Downloading https://files.pythonhosted.org/packages/b0/30/6cc0c95f0b59ad4b3b9163bff7cdcf793cc96fac64cf398ff26271f5cf5e/repoze.lru-0.7-py3-none-any.whl\n",
            "Requirement already satisfied: six in /usr/local/lib/python3.7/dist-packages (from nltk->-r /content/Ldrive/MyDrive/Colab-Drive/CliNER/requirements.txt (line 1)) (1.15.0)\n",
            "Requirement already satisfied: joblib>=0.11 in /usr/local/lib/python3.7/dist-packages (from scikit-learn->-r /content/Ldrive/MyDrive/Colab-Drive/CliNER/requirements.txt (line 5)) (1.0.1)\n",
            "Building wheels for collected packages: marisa-trie\n",
            "  Building wheel for marisa-trie (setup.py) ... \u001b[?25l\u001b[?25hdone\n",
            "  Created wheel for marisa-trie: filename=marisa_trie-0.7.5-cp37-cp37m-linux_x86_64.whl size=861814 sha256=7833c63d5fa0be0cc89c3ed2435e7bd58e23588c42c9b461fed1e464aba76964\n",
            "  Stored in directory: /root/.cache/pip/wheels/45/24/79/022624fc914f0e559fe8a1141aaff1f9df810905a13fc75d57\n",
            "Successfully built marisa-trie\n",
            "Installing collected packages: python-crfsuite, marisa-trie, repoze.lru\n",
            "Successfully installed marisa-trie-0.7.5 python-crfsuite-0.9.7 repoze.lru-0.7\n"
          ],
          "name": "stdout"
        }
      ]
    },
    {
      "cell_type": "code",
      "metadata": {
        "colab": {
          "base_uri": "https://localhost:8080/"
        },
        "id": "Oc42OlJwg9W0",
        "outputId": "882330f6-613e-434e-970a-7318b16728b0"
      },
      "source": [
        " !python '/content/Ldrive/MyDrive/Colab-Drive/CliNER/cliner' predict --txt '/content/Ldrive/MyDrive/Colab-Drive/CliNER/data/examples/ex_doc.txt' --out '/content/Ldrive/MyDrive/Colab-Drive/CliNER/data/predictions' --model '/content/Ldrive/MyDrive/Colab-Drive/CliNER/models/silver.crf' --format i2b2"
      ],
      "execution_count": 5,
      "outputs": [
        {
          "output_type": "stream",
          "text": [
            "/usr/local/lib/python3.7/dist-packages/sklearn/utils/deprecation.py:144: FutureWarning: The sklearn.feature_extraction.dict_vectorizer module is  deprecated in version 0.22 and will be removed in version 0.24. The corresponding classes / functions should instead be imported from sklearn.feature_extraction. Anything that cannot be imported from sklearn.feature_extraction is now part of the private API.\n",
            "  warnings.warn(message, FutureWarning)\n",
            "/usr/local/lib/python3.7/dist-packages/sklearn/base.py:318: UserWarning: Trying to unpickle estimator DictVectorizer from version 0.19.1 when using version 0.22.2.post1. This might lead to breaking code or invalid results. Use at your own risk.\n",
            "  UserWarning)\n",
            "------------------------------\n",
            "\n",
            "\t1 of 1\n",
            "\t/content/Ldrive/MyDrive/Colab-Drive/CliNER/data/examples/ex_doc.txt\n",
            "\n",
            "\tvectorizing words all\n",
            "\tpredicting  labels all\n",
            "\n",
            "\n",
            "writing to: /content/Ldrive/MyDrive/Colab-Drive/CliNER/data/predictions/ex_doc.con\n",
            "\n"
          ],
          "name": "stdout"
        }
      ]
    },
    {
      "cell_type": "code",
      "metadata": {
        "id": "0KVNm_AMiaHK"
      },
      "source": [
        ""
      ],
      "execution_count": null,
      "outputs": []
    }
  ]
}