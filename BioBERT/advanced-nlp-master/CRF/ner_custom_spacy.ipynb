{
 "metadata": {
  "language_info": {
   "codemirror_mode": {
    "name": "ipython",
    "version": 3
   },
   "file_extension": ".py",
   "mimetype": "text/x-python",
   "name": "python",
   "nbconvert_exporter": "python",
   "pygments_lexer": "ipython3",
   "version": "3.8.1-final"
  },
  "orig_nbformat": 2,
  "kernelspec": {
   "name": "python_defaultSpec_1596215862350",
   "display_name": "Python 3.8.1 64-bit ('nlp': venv)"
  }
 },
 "nbformat": 4,
 "nbformat_minor": 2,
 "cells": [
  {
   "cell_type": "code",
   "execution_count": 6,
   "metadata": {},
   "outputs": [],
   "source": [
    "import random\n",
    "import spacy"
   ]
  },
  {
   "cell_type": "code",
   "execution_count": 24,
   "metadata": {},
   "outputs": [],
   "source": [
    "TRAINING_DATA = [\n",
    "    ('Stephen King is an author', {'entities': [(0,11,'AUTHOR')]}),\n",
    "    ('The Shining is a book', {'entities': [(0,10,'BOOK')]}),\n",
    "    ('horror is a genre', {'entities': [(0,5,'GENRE')]}),\n",
    "    ('Margaret Atwood is an author', {'entities': [(0,14,'AUTHOR')]}),\n",
    "    ('Oryx and Crake is a book', {'entities': [(0,13,'AUTHOR')]}),\n",
    "    ('Science-fiction is a genre', {'entities': [(0,14,'GENRE')]})\n",
    "]"
   ]
  },
  {
   "cell_type": "code",
   "execution_count": 25,
   "metadata": {},
   "outputs": [],
   "source": [
    "# start with blank english model\n",
    "nlp = spacy.blank('en')"
   ]
  },
  {
   "cell_type": "code",
   "execution_count": 26,
   "metadata": {},
   "outputs": [],
   "source": [
    "ner = nlp.create_pipe('ner')\n",
    "nlp.add_pipe(ner)\n",
    "# add a new label\n",
    "ner.add_label('BOOK')\n",
    "ner.add_label('AUTHOR')\n",
    "ner.add_label('GENRE')\n",
    "\n",
    "# start with training\n",
    "nlp.begin_training()\n",
    "for i in range(10):\n",
    "    random.shuffle(TRAINING_DATA)\n",
    "    # divide examples into batches\n",
    "    for batch in spacy.util.minibatch(TRAINING_DATA, size=2):\n",
    "        texts = [text for text, annotation in batch]\n",
    "        annotations = [annotation for text, annotation in batch]\n",
    "        # update the model\n",
    "        nlp.update(texts, annotations)"
   ]
  },
  {
   "cell_type": "code",
   "execution_count": 27,
   "metadata": {},
   "outputs": [],
   "source": [
    "doc = nlp('JK Rowling was a fantasy writer who published Harry Potter')\n",
    "\n",
    "for ent in doc.ents:\n",
    "    print(ent.text, ent.label_)"
   ]
  },
  {
   "cell_type": "code",
   "execution_count": null,
   "metadata": {},
   "outputs": [],
   "source": []
  }
 ]
}