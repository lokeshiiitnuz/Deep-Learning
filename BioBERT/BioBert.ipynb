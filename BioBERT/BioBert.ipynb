{
 "cells": [
  {
   "cell_type": "code",
   "execution_count": 17,
   "id": "907c8e25",
   "metadata": {},
   "outputs": [],
   "source": [
    "import os\n",
    "import re\n",
    "import csv\n",
    "import itertools\n",
    "\n",
    "import nltk\n",
    "import pandas as pd\n",
    "import numpy as np\n",
    "import seaborn as sns\n",
    "import matplotlib.pyplot as plt\n",
    "from tqdm import tqdm, trange\n",
    "from collections import defaultdict, OrderedDict\n",
    "\n",
    "import torch\n",
    "import torch.nn as nn\n",
    "from torch.utils.data import TensorDataset, DataLoader\n",
    "from torch.utils.data import RandomSampler, SequentialSampler\n",
    "from pytorch_pretrained_bert import BertModel, BertTokenizer, BertConfig\n",
    "from transformers import BertForTokenClassification, AdamW\n",
    "from transformers import get_linear_schedule_with_warmup\n",
    "\n",
    "import tensorflow as tf\n",
    "from keras.preprocessing.sequence import pad_sequences\n",
    "from sklearn.model_selection import train_test_split"
   ]
  },
  {
   "cell_type": "code",
   "execution_count": 14,
   "id": "d0dfdaef",
   "metadata": {},
   "outputs": [
    {
     "name": "stderr",
     "output_type": "stream",
     "text": [
      "Cloning into 'biobert-pytorch'...\n"
     ]
    }
   ],
   "source": [
    "!git clone https://github.com/dmis-lab/biobert-pytorch.git"
   ]
  },
  {
   "cell_type": "code",
   "execution_count": 18,
   "id": "46fcb86f",
   "metadata": {},
   "outputs": [
    {
     "name": "stderr",
     "output_type": "stream",
     "text": [
      "Cannot open cookies file '/tmp/cookies.txt': No such file or directory\n",
      "--2021-06-14 14:34:37--  https://docs.google.com/uc?export=download&confirm=$(wget%20--quiet%20--save-cookies%20/tmp/cookies.txt%20--keep-session-cookies%20--no-check-certificate%20'https://docs.google.com/uc?export=download&id=1R84voFKHfWV9xjzeLzWBbmY1uOMYpnyD'%20-O-%20%7C%20sed%20-rn%20's/.*confirm=([0-9A-Za-z_]+).*/%5C1%5Cn/p')&id=1R84voFKHfWV9xjzeLzWBbmY1uOMYpnyD\n",
      "Resolving docs.google.com (docs.google.com)... 2404:6800:4007:805::200e, 142.250.71.46\n",
      "Connecting to docs.google.com (docs.google.com)|2404:6800:4007:805::200e|:443... connected.\n",
      "HTTP request sent, awaiting response... 404 Not Found\n",
      "2021-06-14 14:34:38 ERROR 404: Not Found.\n",
      "\n"
     ]
    }
   ],
   "source": [
    "!wget --load-cookies /tmp/cookies.txt \"https://docs.google.com/uc?export=download&confirm=$(wget --quiet --save-cookies /tmp/cookies.txt --keep-session-cookies --no-check-certificate 'https://docs.google.com/uc?export=download&id=1R84voFKHfWV9xjzeLzWBbmY1uOMYpnyD' -O- | sed -rn 's/.*confirm=([0-9A-Za-z_]+).*/\\1\\n/p')&id=1R84voFKHfWV9xjzeLzWBbmY1uOMYpnyD\" -O biobert_weights && rm -rf /tmp/cookies.txt\n"
   ]
  },
  {
   "cell_type": "code",
   "execution_count": 19,
   "id": "ffe218fd",
   "metadata": {},
   "outputs": [],
   "source": [
    "import pytorch_pretrained_bert"
   ]
  },
  {
   "cell_type": "code",
   "execution_count": 20,
   "id": "4f769626",
   "metadata": {},
   "outputs": [
    {
     "name": "stderr",
     "output_type": "stream",
     "text": [
      "ls: cannot access 'biobert_v1.1_pubmed/': No such file or directory\n"
     ]
    }
   ],
   "source": [
    "!tar -xzf biobert_weights\n",
    "!ls biobert_v1.1_pubmed/"
   ]
  },
  {
   "cell_type": "code",
   "execution_count": 26,
   "id": "61523dee",
   "metadata": {},
   "outputs": [],
   "source": [
    "! ./download.sh"
   ]
  },
  {
   "cell_type": "code",
   "execution_count": 25,
   "id": "595b8892",
   "metadata": {},
   "outputs": [
    {
     "name": "stdout",
     "output_type": "stream",
     "text": [
      "BioBert.ipynb\n",
      "biobert-pytorch\n",
      "biobert_weights\n"
     ]
    }
   ],
   "source": [
    "!ls\n"
   ]
  },
  {
   "cell_type": "code",
   "execution_count": 27,
   "id": "31eef725",
   "metadata": {},
   "outputs": [
    {
     "ename": "SyntaxError",
     "evalue": "invalid syntax (<ipython-input-27-ab86afdbc826>, line 1)",
     "output_type": "error",
     "traceback": [
      "\u001b[1;36m  File \u001b[1;32m\"<ipython-input-27-ab86afdbc826>\"\u001b[1;36m, line \u001b[1;32m1\u001b[0m\n\u001b[1;33m    git clone https://github.com/perkdrew/advanced-nlp/blob/master/BioBERT/ner/bionlp_tags.csv\u001b[0m\n\u001b[1;37m        ^\u001b[0m\n\u001b[1;31mSyntaxError\u001b[0m\u001b[1;31m:\u001b[0m invalid syntax\n"
     ]
    }
   ],
   "source": [
    "git clone https://github.com/perkdrew/advanced-nlp/blob/master/BioBERT/ner/bionlp_tags.csv"
   ]
  },
  {
   "cell_type": "code",
   "execution_count": null,
   "id": "bfc8c6f8",
   "metadata": {},
   "outputs": [],
   "source": []
  }
 ],
 "metadata": {
  "kernelspec": {
   "display_name": "Python 3",
   "language": "python",
   "name": "python3"
  }
 },
 "nbformat": 4,
 "nbformat_minor": 5
}
